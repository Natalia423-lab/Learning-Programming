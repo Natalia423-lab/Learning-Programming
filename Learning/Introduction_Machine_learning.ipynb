{
 "cells": [
  {
   "cell_type": "markdown",
   "metadata": {},
   "source": [
    "Learn:\n",
    "Particularly when we have a large amount of data, we are not always able to recognise these patterns individually. That's precisely where machine learning comes into play.\n",
    "\n",
    "We can utilise machine learning to make judgements for us, rather than relying on patterns found in the data we currently have.\n",
    "\n",
    "While gathering our own data is always an option, it's not always practical. Thankfully, based on the type of problem we want to tackle, we can easily access and interact with a large number of publicly available datasets."
   ]
  }
 ],
 "metadata": {
  "language_info": {
   "name": "python"
  },
  "orig_nbformat": 4
 },
 "nbformat": 4,
 "nbformat_minor": 2
}
