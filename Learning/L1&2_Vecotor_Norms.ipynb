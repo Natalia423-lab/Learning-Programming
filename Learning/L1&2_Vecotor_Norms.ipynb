{
 "cells": [
  {
   "cell_type": "markdown",
   "metadata": {},
   "source": [
    "# The website I used for this exercise is: https://www.digitalocean.com/community/tutorials/norm-of-vector-python#"
   ]
  },
  {
   "cell_type": "markdown",
   "metadata": {},
   "source": [
    "# The Norm of a vector refers to the length of the vector. There are two ways to calculate the norm of a vector:\n",
    "1. The Euclidean norm: A point on a line, surface, or hypersurface, may be interpreted geometrically as the distance between this point and the origin\n",
    "2. The Manhattan norm: The sum of the absolute values of the components of a vector\n",
    "\n",
    "# To calculate the norm, you need to take the sum of the absolute vector values\n",
    "\n",
    "a = [1,2,3,4,5]\n",
    "\n",
    "# For the array above, the L1 norm will be:\n",
    "\n",
    "1+2+3+4+5 = 15\n",
    "\n",
    "# Another example is:\n",
    "\n",
    "a = [-1,-2,3,4,5]\n",
    "\n",
    "# For the array above, the L1 norm will be:\n",
    "\n",
    "|-1|+|-2|+3+4+5 = 15"
   ]
  },
  {
   "cell_type": "code",
   "execution_count": null,
   "metadata": {},
   "outputs": [],
   "source": [
    "#FIXME:\n",
    "# Using Numpy, to calculate the L1 norm of the array as follows:\n",
    "\n",
    "#from numpy import array\n",
    "#from numpy.linalg import norm\n",
    "#arr = array([1, 2, 3, 4, 5])\n",
    "#print(arr)\n",
    "#norm_l1 = norm(arr, 1)\n",
    "#print(norm_l1)"
   ]
  },
  {
   "cell_type": "code",
   "execution_count": null,
   "metadata": {},
   "outputs": [],
   "source": [
    "#FIXME:\n",
    "# Let's try to calculate it for the array with negative values:\n",
    "\n",
    "#from numpy import array\n",
    "#from numpy.linalg import norm\n",
    "#arr = array([-1, -2, 3, 4, 5])\n",
    "#print(arr)\n",
    "#norm_l1 = norm(arr, 1)\n",
    "#print(norm_l1)"
   ]
  },
  {
   "cell_type": "markdown",
   "metadata": {},
   "source": [
    "# To calculate the L2 norm of the array as follows:\n",
    "\n",
    "The notation for the L2 norm of a vector x is ‖x‖²\n",
    "Let’s consider an example to understand it.\n",
    "\n",
    "a = [1,2,3,4,5]\n",
    "The L2 norm for the array above will be:\n",
    "sqrt(1^2 + 2^2 + 3^2 + 4^2 + 5^2) = 7.416\n"
   ]
  },
  {
   "cell_type": "code",
   "execution_count": null,
   "metadata": {},
   "outputs": [],
   "source": [
    "#TODO: Fix this code for it to work, Numpy is not working properly. it is installed but will not import.\n",
    "#To implement this in Python, you can use the following code:\n",
    "\n",
    "#from numpy import array\n",
    "#from numpy.linalg import norm\n",
    "#arr = array([1, 2, 3, 4, 5])\n",
    "#print(arr)\n",
    "#norm_l2 = norm(arr)\n",
    "#print(norm_l2)"
   ]
  },
  {
   "cell_type": "markdown",
   "metadata": {},
   "source": [
    "The output will be:\n",
    "[1 2 3 4 5]\n",
    "7.416198487095663"
   ]
  }
 ],
 "metadata": {
  "language_info": {
   "name": "python"
  },
  "orig_nbformat": 4
 },
 "nbformat": 4,
 "nbformat_minor": 2
}
